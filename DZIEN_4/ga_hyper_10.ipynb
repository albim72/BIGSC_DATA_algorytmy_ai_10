{
  "nbformat": 4,
  "nbformat_minor": 0,
  "metadata": {
    "colab": {
      "provenance": []
    },
    "kernelspec": {
      "name": "python3",
      "display_name": "Python 3"
    },
    "language_info": {
      "name": "python"
    }
  },
  "cells": [
    {
      "cell_type": "code",
      "execution_count": 1,
      "metadata": {
        "id": "xVmYti3zlbZd"
      },
      "outputs": [],
      "source": [
        "import tensorflow as tf\n",
        "from tensorflow.keras.models import Sequential\n",
        "from tensorflow.keras.layers import Dense, Flatten\n",
        "from tensorflow.keras.datasets import mnist\n",
        "import numpy as np\n",
        "import random"
      ]
    },
    {
      "cell_type": "code",
      "source": [
        "\n",
        "# Załaduj dane MNIST\n",
        "(x_train, y_train), (x_test, y_test) = mnist.load_data()\n",
        "x_train, x_test = x_train / 255.0, x_test / 255.0  # Normalizacja\n",
        "y_train = tf.keras.utils.to_categorical(y_train, 10)\n",
        "y_test = tf.keras.utils.to_categorical(y_test, 10)"
      ],
      "metadata": {
        "colab": {
          "base_uri": "https://localhost:8080/"
        },
        "id": "f3OUdUnqmKhQ",
        "outputId": "db622b0c-e65e-4786-a104-44484671171f"
      },
      "execution_count": 2,
      "outputs": [
        {
          "output_type": "stream",
          "name": "stdout",
          "text": [
            "Downloading data from https://storage.googleapis.com/tensorflow/tf-keras-datasets/mnist.npz\n",
            "\u001b[1m11490434/11490434\u001b[0m \u001b[32m━━━━━━━━━━━━━━━━━━━━\u001b[0m\u001b[37m\u001b[0m \u001b[1m0s\u001b[0m 0us/step\n"
          ]
        }
      ]
    },
    {
      "cell_type": "code",
      "source": [
        "\n",
        "def build_model(chromosome):\n",
        "    num_layers, neurons, activation, learning_rate = chromosome\n",
        "    activation_functions = ['relu', 'sigmoid', 'tanh']\n",
        "\n",
        "    model = Sequential([Flatten(input_shape=(28, 28))])\n",
        "    for i in range(num_layers):\n",
        "        model.add(Dense(neurons[i], activation=activation_functions[activation]))\n",
        "    model.add(Dense(10, activation='softmax'))\n",
        "    model.compile(optimizer=tf.keras.optimizers.Adam(learning_rate=learning_rate),\n",
        "                  loss='categorical_crossentropy',\n",
        "                  metrics=['accuracy'])\n",
        "    return model"
      ],
      "metadata": {
        "id": "MkobYIVRmNTA"
      },
      "execution_count": 3,
      "outputs": []
    },
    {
      "cell_type": "code",
      "source": [
        "def evaluate_fitness(chromosome, epochs=3):\n",
        "    model = build_model(chromosome)\n",
        "    history = model.fit(x_train, y_train, epochs=epochs, batch_size=64, verbose=0, validation_split=0.1)\n",
        "    _, accuracy = model.evaluate(x_test, y_test, verbose=0)\n",
        "    return accuracy"
      ],
      "metadata": {
        "id": "uOnXi6CnmeNl"
      },
      "execution_count": 4,
      "outputs": []
    },
    {
      "cell_type": "code",
      "source": [
        "def initialize_population(pop_size, max_layers, max_neurons, learning_rates):\n",
        "    population = []\n",
        "    for _ in range(pop_size):\n",
        "        num_layers = random.randint(1, max_layers)\n",
        "        neurons = [random.randint(10, max_neurons) for _ in range(num_layers)]\n",
        "        activation = random.randint(0, 2)  # 0=relu, 1=sigmoid, 2=tanh\n",
        "        learning_rate = random.choice(learning_rates)\n",
        "        chromosome = (num_layers, neurons, activation, learning_rate)\n",
        "        population.append(chromosome)\n",
        "    return population"
      ],
      "metadata": {
        "id": "C1RayIS3nS5e"
      },
      "execution_count": 5,
      "outputs": []
    },
    {
      "cell_type": "code",
      "source": [
        "def select_parents(population, fitness):\n",
        "    selected = random.choices(population, weights=fitness, k=2)\n",
        "    return selected"
      ],
      "metadata": {
        "id": "tdLWcEQunkZy"
      },
      "execution_count": 6,
      "outputs": []
    },
    {
      "cell_type": "code",
      "source": [
        "def crossover(parent1, parent2):\n",
        "    child1 = list(parent1)\n",
        "    child2 = list(parent2)\n",
        "\n",
        "    # Ensure the range for random.randint is valid\n",
        "    max_cross_point = min(len(parent1[1]), len(parent2[1])) - 1\n",
        "    # If max_cross_point is 0 or less, set it to 1 to avoid the error\n",
        "    cross_point = random.randint(1, max(1, max_cross_point))\n",
        "\n",
        "    child1[1][:cross_point], child2[1][:cross_point] = child2[1][:cross_point], child1[1][:cross_point]\n",
        "    child1[2], child2[2] = child2[2], child1[2]\n",
        "    child1[3], child2[3] = child2[3], child1[3]\n",
        "\n",
        "    return tuple(child1), tuple(child2)"
      ],
      "metadata": {
        "id": "jW8czLIYntGu"
      },
      "execution_count": 11,
      "outputs": []
    },
    {
      "cell_type": "code",
      "source": [
        "\n",
        "def mutate(chromosome, max_neurons, learning_rates):\n",
        "    mutation_rate = 0.1\n",
        "    if random.random() < mutation_rate:\n",
        "        chromosome = list(chromosome)\n",
        "        layer_to_mutate = random.randint(0, chromosome[0] - 1)\n",
        "        chromosome[1][layer_to_mutate] = random.randint(10, max_neurons)\n",
        "        chromosome[3] = random.choice(learning_rates)\n",
        "    return tuple(chromosome)"
      ],
      "metadata": {
        "id": "Bfw7SE4mn-3o"
      },
      "execution_count": 8,
      "outputs": []
    },
    {
      "cell_type": "code",
      "source": [
        "def genetic_algorithm(pop_size, generations, max_layers, max_neurons, learning_rates):\n",
        "    population = initialize_population(pop_size, max_layers, max_neurons, learning_rates)\n",
        "    best_solution = None\n",
        "    best_fitness = 0\n",
        "\n",
        "    for generation in range(generations):\n",
        "        fitness = [evaluate_fitness(chromosome) for chromosome in population]\n",
        "\n",
        "        for i, f in enumerate(fitness):\n",
        "            if f > best_fitness:\n",
        "                best_fitness = f\n",
        "                best_solution = population[i]\n",
        "\n",
        "        new_population = []\n",
        "        for _ in range(pop_size // 2):\n",
        "            parent1, parent2 = select_parents(population, fitness)\n",
        "            child1, child2 = crossover(parent1, parent2)\n",
        "            new_population.append(mutate(child1, max_neurons, learning_rates))\n",
        "            new_population.append(mutate(child2, max_neurons, learning_rates))\n",
        "\n",
        "        population = new_population\n",
        "        print(f\"Generation {generation+1}: Best Fitness = {best_fitness:.4f}\")\n",
        "\n",
        "    return best_solution, best_fitness\n",
        "\n"
      ],
      "metadata": {
        "id": "1xO-TrP5oOUI"
      },
      "execution_count": 9,
      "outputs": []
    },
    {
      "cell_type": "code",
      "source": [
        "# Parametry\n",
        "pop_size = 10\n",
        "generations = 3\n",
        "max_layers = 5\n",
        "max_neurons = 256\n",
        "learning_rates = [0.001, 0.01, 0.1]\n",
        "\n",
        "best_solution, best_fitness = genetic_algorithm(pop_size, generations, max_layers, max_neurons, learning_rates)\n",
        "\n",
        "print(\"Best solution:\", best_solution)\n",
        "print(\"Best fitness:\", best_fitness)"
      ],
      "metadata": {
        "colab": {
          "base_uri": "https://localhost:8080/"
        },
        "id": "qEIlpm3botNv",
        "outputId": "8a181213-ffdf-4b78-c71d-23a16d735336"
      },
      "execution_count": null,
      "outputs": [
        {
          "output_type": "stream",
          "name": "stderr",
          "text": [
            "/usr/local/lib/python3.11/dist-packages/keras/src/layers/reshaping/flatten.py:37: UserWarning: Do not pass an `input_shape`/`input_dim` argument to a layer. When using Sequential models, prefer using an `Input(shape)` object as the first layer in the model instead.\n",
            "  super().__init__(**kwargs)\n"
          ]
        }
      ]
    }
  ]
}